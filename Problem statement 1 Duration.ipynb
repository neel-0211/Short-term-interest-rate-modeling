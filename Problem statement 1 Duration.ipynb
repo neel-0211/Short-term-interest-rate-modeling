{
 "cells": [
  {
   "cell_type": "code",
   "execution_count": 1,
   "id": "c35ea407",
   "metadata": {},
   "outputs": [],
   "source": [
    "import numpy as np\n",
    "import pandas as pd"
   ]
  },
  {
   "cell_type": "markdown",
   "id": "1d0aab3c",
   "metadata": {},
   "source": [
    "# Q5 "
   ]
  },
  {
   "cell_type": "code",
   "execution_count": 6,
   "id": "9b7d4fc8",
   "metadata": {},
   "outputs": [],
   "source": [
    "a = pd.read_excel(r'Assignment_05_Data.xlsx',\n",
    "             sheet_name='5', usecols='BO,BP', skiprows=10,nrows=30, index_col='Year')"
   ]
  },
  {
   "cell_type": "code",
   "execution_count": 8,
   "id": "ca4d2e66",
   "metadata": {},
   "outputs": [],
   "source": [
    "Par = a.values.reshape(30)"
   ]
  },
  {
   "cell_type": "code",
   "execution_count": 9,
   "id": "7bfa4d42",
   "metadata": {},
   "outputs": [
    {
     "data": {
      "text/plain": [
       "array([0.07004889, 0.0714037 , 0.07235646, 0.07303536, 0.07352619,\n",
       "       0.07388659, 0.07415554, 0.07435962, 0.07451707, 0.07464057,\n",
       "       0.07473899, 0.07481863, 0.07488398, 0.07493832, 0.07498404,\n",
       "       0.07502293, 0.07505631, 0.07508522, 0.07511044, 0.07513259,\n",
       "       0.07515215, 0.07516951, 0.075185  , 0.07519886, 0.07521132,\n",
       "       0.07522254, 0.07523268, 0.07524187, 0.0752502 , 0.07525779])"
      ]
     },
     "execution_count": 9,
     "metadata": {},
     "output_type": "execute_result"
    }
   ],
   "source": [
    "Par"
   ]
  },
  {
   "cell_type": "code",
   "execution_count": 13,
   "id": "7ea57d05",
   "metadata": {
    "scrolled": false
   },
   "outputs": [],
   "source": [
    "Duration = np.zeros(30)\n",
    "for j,i in enumerate(Par):\n",
    "    PVCF_time = 0\n",
    "    for ii in range(1,(j*2)+3):\n",
    "        if(ii==(j*2)+2):\n",
    "            PVCF_time += (1/((1+Par[j]/2)**(ii)))*(Par[j]*100/2 +100)*ii\n",
    "        else:\n",
    "            PVCF_time += (1/((1+Par[j]/2)**(ii)))*(Par[j]*100/2 )*ii\n",
    "#     print(j,PVCF_time)\n",
    "    Duration[j] = PVCF_time/200/(1+Par[j]/2)"
   ]
  },
  {
   "cell_type": "code",
   "execution_count": 14,
   "id": "f7be290b",
   "metadata": {},
   "outputs": [
    {
     "data": {
      "text/plain": [
       "array([ 0.94981368,  1.83348377,  2.65399598,  3.41531138,  4.12159331,\n",
       "        4.77687389,  5.38492985,  5.94925209,  6.47305393,  6.95929269,\n",
       "        7.41069379,  7.82977329,  8.2188577 ,  8.5801011 ,  8.9154998 ,\n",
       "        9.22690523,  9.51603523,  9.78448419, 10.03373217, 10.26515326,\n",
       "       10.48002324, 10.67952661, 10.86476315, 11.03675396, 11.19644704,\n",
       "       11.34472258, 11.48239771, 11.6102311 , 11.72892703, 11.8391394 ])"
      ]
     },
     "execution_count": 14,
     "metadata": {},
     "output_type": "execute_result"
    }
   ],
   "source": [
    "Duration"
   ]
  },
  {
   "cell_type": "code",
   "execution_count": 15,
   "id": "c63eaadf",
   "metadata": {},
   "outputs": [],
   "source": [
    "pd.DataFrame(Duration).to_clipboard()"
   ]
  },
  {
   "cell_type": "markdown",
   "id": "1e48778f",
   "metadata": {},
   "source": [
    "# Q6"
   ]
  },
  {
   "cell_type": "code",
   "execution_count": 47,
   "id": "255cf13e",
   "metadata": {},
   "outputs": [],
   "source": [
    "a = pd.read_excel(r'Assignment_05_Data.xlsx',\n",
    "             sheet_name='6', usecols='BZ,CA', skiprows=10,nrows=30, index_col='Year')"
   ]
  },
  {
   "cell_type": "code",
   "execution_count": 48,
   "id": "9c980fc4",
   "metadata": {},
   "outputs": [],
   "source": [
    "Par = a.values.reshape(30)"
   ]
  },
  {
   "cell_type": "code",
   "execution_count": 49,
   "id": "30a8ed1e",
   "metadata": {},
   "outputs": [
    {
     "data": {
      "text/plain": [
       "array([0.06999423, 0.07138617, 0.0723584 , 0.07304592, 0.0735388 ,\n",
       "       0.07389742, 0.07416249, 0.07436163, 0.07451375, 0.0746319 ,\n",
       "       0.07472517, 0.07479998, 0.07486088, 0.07491114, 0.07495317,\n",
       "       0.0749887 , 0.07501907, 0.07504527, 0.07506804, 0.07508799,\n",
       "       0.07510556, 0.07512114, 0.07513501, 0.07514741, 0.07515854,\n",
       "       0.07516857, 0.07517762, 0.07518582, 0.07519325, 0.07520002])"
      ]
     },
     "execution_count": 49,
     "metadata": {},
     "output_type": "execute_result"
    }
   ],
   "source": [
    "Par"
   ]
  },
  {
   "cell_type": "code",
   "execution_count": 50,
   "id": "7180e530",
   "metadata": {
    "scrolled": false
   },
   "outputs": [],
   "source": [
    "Duration = np.zeros(30)\n",
    "for j,i in enumerate(Par):\n",
    "    PVCF_time = 0\n",
    "    for ii in range(1,(j*2)+3):\n",
    "        if(ii==(j*2)+2):\n",
    "            PVCF_time += (1/((1+Par[j]/2)**(ii)))*(Par[j]*100/2 +100)*ii\n",
    "        else:\n",
    "            PVCF_time += (1/((1+Par[j]/2)**(ii)))*(Par[j]*100/2 )*ii\n",
    "    Duration[j] = PVCF_time/200/(1+Par[j]/2)"
   ]
  },
  {
   "cell_type": "code",
   "execution_count": 51,
   "id": "b6b3251e",
   "metadata": {},
   "outputs": [],
   "source": [
    "pd.DataFrame(Duration).to_clipboard()"
   ]
  }
 ],
 "metadata": {
  "kernelspec": {
   "display_name": "Python 3 (ipykernel)",
   "language": "python",
   "name": "python3"
  },
  "language_info": {
   "codemirror_mode": {
    "name": "ipython",
    "version": 3
   },
   "file_extension": ".py",
   "mimetype": "text/x-python",
   "name": "python",
   "nbconvert_exporter": "python",
   "pygments_lexer": "ipython3",
   "version": "3.8.12"
  }
 },
 "nbformat": 4,
 "nbformat_minor": 5
}
