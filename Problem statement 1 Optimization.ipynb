{
 "cells": [
  {
   "cell_type": "code",
   "execution_count": 1,
   "id": "31292ee2",
   "metadata": {},
   "outputs": [],
   "source": [
    "import numpy as np\n",
    "from scipy.optimize import minimize\n",
    "import pandas as pd\n",
    "from numba import njit\n",
    "from time import time_ns\n",
    "import matplotlib.pyplot as plt"
   ]
  },
  {
   "cell_type": "code",
   "execution_count": 2,
   "id": "ddd00317",
   "metadata": {},
   "outputs": [],
   "source": [
    "cmt_df = pd.read_csv('CMT.csv', index_col='Date')\n",
    "cmt_df.index = pd.to_datetime(cmt_df.index)\n",
    "cmt = cmt_df.values"
   ]
  },
  {
   "cell_type": "code",
   "execution_count": 3,
   "id": "c4abb7cd",
   "metadata": {},
   "outputs": [
    {
     "data": {
      "text/html": [
       "<div>\n",
       "<style scoped>\n",
       "    .dataframe tbody tr th:only-of-type {\n",
       "        vertical-align: middle;\n",
       "    }\n",
       "\n",
       "    .dataframe tbody tr th {\n",
       "        vertical-align: top;\n",
       "    }\n",
       "\n",
       "    .dataframe thead th {\n",
       "        text-align: right;\n",
       "    }\n",
       "</style>\n",
       "<table border=\"1\" class=\"dataframe\">\n",
       "  <thead>\n",
       "    <tr style=\"text-align: right;\">\n",
       "      <th></th>\n",
       "      <th>cmt0.25</th>\n",
       "      <th>cmt2</th>\n",
       "      <th>cmt3</th>\n",
       "      <th>cmt5</th>\n",
       "      <th>cmt7</th>\n",
       "      <th>cmt10</th>\n",
       "    </tr>\n",
       "    <tr>\n",
       "      <th>Date</th>\n",
       "      <th></th>\n",
       "      <th></th>\n",
       "      <th></th>\n",
       "      <th></th>\n",
       "      <th></th>\n",
       "      <th></th>\n",
       "    </tr>\n",
       "  </thead>\n",
       "  <tbody>\n",
       "    <tr>\n",
       "      <th>1988-01-08</th>\n",
       "      <td>0.0675</td>\n",
       "      <td>0.0792</td>\n",
       "      <td>0.0816</td>\n",
       "      <td>0.0848</td>\n",
       "      <td>0.0880</td>\n",
       "      <td>0.0897</td>\n",
       "    </tr>\n",
       "    <tr>\n",
       "      <th>1988-01-15</th>\n",
       "      <td>0.0675</td>\n",
       "      <td>0.0761</td>\n",
       "      <td>0.0783</td>\n",
       "      <td>0.0813</td>\n",
       "      <td>0.0842</td>\n",
       "      <td>0.0860</td>\n",
       "    </tr>\n",
       "    <tr>\n",
       "      <th>1988-01-22</th>\n",
       "      <td>0.0670</td>\n",
       "      <td>0.0751</td>\n",
       "      <td>0.0773</td>\n",
       "      <td>0.0801</td>\n",
       "      <td>0.0829</td>\n",
       "      <td>0.0849</td>\n",
       "    </tr>\n",
       "    <tr>\n",
       "      <th>1988-01-29</th>\n",
       "      <td>0.0660</td>\n",
       "      <td>0.0722</td>\n",
       "      <td>0.0748</td>\n",
       "      <td>0.0776</td>\n",
       "      <td>0.0806</td>\n",
       "      <td>0.0826</td>\n",
       "    </tr>\n",
       "    <tr>\n",
       "      <th>1988-02-05</th>\n",
       "      <td>0.0640</td>\n",
       "      <td>0.0710</td>\n",
       "      <td>0.0732</td>\n",
       "      <td>0.0764</td>\n",
       "      <td>0.0795</td>\n",
       "      <td>0.0812</td>\n",
       "    </tr>\n",
       "    <tr>\n",
       "      <th>...</th>\n",
       "      <td>...</td>\n",
       "      <td>...</td>\n",
       "      <td>...</td>\n",
       "      <td>...</td>\n",
       "      <td>...</td>\n",
       "      <td>...</td>\n",
       "    </tr>\n",
       "    <tr>\n",
       "      <th>2000-06-02</th>\n",
       "      <td>0.0648</td>\n",
       "      <td>0.0652</td>\n",
       "      <td>0.0648</td>\n",
       "      <td>0.0637</td>\n",
       "      <td>0.0639</td>\n",
       "      <td>0.0615</td>\n",
       "    </tr>\n",
       "    <tr>\n",
       "      <th>2000-06-09</th>\n",
       "      <td>0.0644</td>\n",
       "      <td>0.0656</td>\n",
       "      <td>0.0650</td>\n",
       "      <td>0.0636</td>\n",
       "      <td>0.0636</td>\n",
       "      <td>0.0613</td>\n",
       "    </tr>\n",
       "    <tr>\n",
       "      <th>2000-06-16</th>\n",
       "      <td>0.0643</td>\n",
       "      <td>0.0638</td>\n",
       "      <td>0.0632</td>\n",
       "      <td>0.0619</td>\n",
       "      <td>0.0621</td>\n",
       "      <td>0.0599</td>\n",
       "    </tr>\n",
       "    <tr>\n",
       "      <th>2000-06-23</th>\n",
       "      <td>0.0644</td>\n",
       "      <td>0.0655</td>\n",
       "      <td>0.0649</td>\n",
       "      <td>0.0637</td>\n",
       "      <td>0.0642</td>\n",
       "      <td>0.0619</td>\n",
       "    </tr>\n",
       "    <tr>\n",
       "      <th>2000-06-30</th>\n",
       "      <td>0.0645</td>\n",
       "      <td>0.0638</td>\n",
       "      <td>0.0631</td>\n",
       "      <td>0.0618</td>\n",
       "      <td>0.0625</td>\n",
       "      <td>0.0603</td>\n",
       "    </tr>\n",
       "  </tbody>\n",
       "</table>\n",
       "<p>650 rows × 6 columns</p>\n",
       "</div>"
      ],
      "text/plain": [
       "            cmt0.25    cmt2    cmt3    cmt5    cmt7   cmt10\n",
       "Date                                                       \n",
       "1988-01-08   0.0675  0.0792  0.0816  0.0848  0.0880  0.0897\n",
       "1988-01-15   0.0675  0.0761  0.0783  0.0813  0.0842  0.0860\n",
       "1988-01-22   0.0670  0.0751  0.0773  0.0801  0.0829  0.0849\n",
       "1988-01-29   0.0660  0.0722  0.0748  0.0776  0.0806  0.0826\n",
       "1988-02-05   0.0640  0.0710  0.0732  0.0764  0.0795  0.0812\n",
       "...             ...     ...     ...     ...     ...     ...\n",
       "2000-06-02   0.0648  0.0652  0.0648  0.0637  0.0639  0.0615\n",
       "2000-06-09   0.0644  0.0656  0.0650  0.0636  0.0636  0.0613\n",
       "2000-06-16   0.0643  0.0638  0.0632  0.0619  0.0621  0.0599\n",
       "2000-06-23   0.0644  0.0655  0.0649  0.0637  0.0642  0.0619\n",
       "2000-06-30   0.0645  0.0638  0.0631  0.0618  0.0625  0.0603\n",
       "\n",
       "[650 rows x 6 columns]"
      ]
     },
     "execution_count": 3,
     "metadata": {},
     "output_type": "execute_result"
    }
   ],
   "source": [
    "cmt_df"
   ]
  },
  {
   "cell_type": "code",
   "execution_count": 4,
   "id": "a637f3d3",
   "metadata": {},
   "outputs": [],
   "source": [
    "@njit\n",
    "def objective(se):\n",
    "    T = 0.25\n",
    "    A_T = np.exp((( (se[2]**2)/(2*se[1]**2) )-( se[0]/se[1] ))*T + (( se[0]/(se[1]**2) )-( (se[2]**2)/(se[1]**3) ))*(1-np.exp(-se[1]*T)) + ( (se[2]**2)/(4*se[1]**3) )*( (1-np.exp(-2*se[1]*T)) ))\n",
    "    B_T = (1/se[1])*(1-np.exp(-se[1]*T))\n",
    "    D_T = np.zeros(shape=(650,20))\n",
    "    r0 = ((cmt[:,0]+np.log(A_T)/T)*(T/B_T)) \n",
    "    for i in np.arange(1,21):\n",
    "        T = i/2\n",
    "        A_T = np.exp((( (se[2]**2)/(2*se[1]**2) )-( se[0]/se[1] ))*T + (( se[0]/(se[1]**2) )-( (se[2]**2)/(se[1]**3) ))*(1-np.exp(-se[1]*T)) + ( (se[2]**2)/(4*se[1]**3) )*( (1-np.exp(-2*se[1]*T)) ))\n",
    "        B_T = (1/se[1])*(1-np.exp(-se[1]*T))\n",
    "        D_T[:,i-1] = A_T*np.exp(-B_T*r0)\n",
    "    T = [2,3,5,7,10]\n",
    "    Par_rates = np.zeros(shape=(650,5))\n",
    "    for j,i in enumerate(T):\n",
    "        Par_rates[:,j] = 0.02*(100-100*D_T[:,i*2-1])/np.sum(D_T[:,:i*2], axis=1)\n",
    "    return np.sqrt(np.mean(np.square(Par_rates-cmt[:,1:])))"
   ]
  },
  {
   "cell_type": "code",
   "execution_count": 7,
   "id": "eed599d1",
   "metadata": {},
   "outputs": [
    {
     "data": {
      "text/plain": [
       "0.007025644676177797"
      ]
     },
     "execution_count": 7,
     "metadata": {},
     "output_type": "execute_result"
    }
   ],
   "source": [
    "objective([0.02079224, 0.24311847, 0.03583904])"
   ]
  },
  {
   "cell_type": "code",
   "execution_count": 6,
   "id": "08edf980",
   "metadata": {},
   "outputs": [],
   "source": [
    "a = [0.001]*3\n",
    "\n",
    "b = (0,np.inf)\n",
    "bnds = (b, b, b)\n",
    "solution = minimize(objective,a,bounds=bnds)"
   ]
  },
  {
   "cell_type": "code",
   "execution_count": 7,
   "id": "3f732f2c",
   "metadata": {},
   "outputs": [
    {
     "data": {
      "text/plain": [
       "      fun: 0.007025644676164474\n",
       " hess_inv: <3x3 LbfgsInvHessProduct with dtype=float64>\n",
       "      jac: array([-1.15447582e-05,  6.76455420e-07,  3.76868675e-07])\n",
       "  message: 'CONVERGENCE: REL_REDUCTION_OF_F_<=_FACTR*EPSMCH'\n",
       "     nfev: 168\n",
       "      nit: 31\n",
       "     njev: 42\n",
       "   status: 0\n",
       "  success: True\n",
       "        x: array([0.02079224, 0.24311847, 0.03583904])"
      ]
     },
     "execution_count": 7,
     "metadata": {},
     "output_type": "execute_result"
    }
   ],
   "source": [
    "solution"
   ]
  }
 ],
 "metadata": {
  "kernelspec": {
   "display_name": "Python 3 (ipykernel)",
   "language": "python",
   "name": "python3"
  },
  "language_info": {
   "codemirror_mode": {
    "name": "ipython",
    "version": 3
   },
   "file_extension": ".py",
   "mimetype": "text/x-python",
   "name": "python",
   "nbconvert_exporter": "python",
   "pygments_lexer": "ipython3",
   "version": "3.8.12"
  }
 },
 "nbformat": 4,
 "nbformat_minor": 5
}
